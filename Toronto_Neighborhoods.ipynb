{
 "cells": [
  {
   "cell_type": "code",
   "execution_count": 1,
   "metadata": {},
   "outputs": [],
   "source": [
    "import pandas as pd"
   ]
  },
  {
   "cell_type": "code",
   "execution_count": 2,
   "metadata": {},
   "outputs": [],
   "source": [
    "# !conda install -c conda-forge BeautifulSoup4 --yes # \n",
    "from bs4 import BeautifulSoup # import BeautifulSoup library"
   ]
  },
  {
   "cell_type": "code",
   "execution_count": 3,
   "metadata": {},
   "outputs": [],
   "source": [
    "# install a parser\n",
    "# !conda install -c conda-forge html5lib --yes # "
   ]
  },
  {
   "cell_type": "code",
   "execution_count": 4,
   "metadata": {},
   "outputs": [],
   "source": [
    "# install request library\n",
    "# !conda install -c conda-forge request --yes\n",
    "import requests"
   ]
  },
  {
   "cell_type": "markdown",
   "metadata": {},
   "source": [
    "## Scrape Neighborhood Information"
   ]
  },
  {
   "cell_type": "code",
   "execution_count": 5,
   "metadata": {},
   "outputs": [],
   "source": [
    "source = requests.get('https://en.wikipedia.org/wiki/List_of_postal_codes_of_Canada:_M').text # Get the source html code\n",
    "# add on .text to get the source code from response objec"
   ]
  },
  {
   "cell_type": "code",
   "execution_count": 6,
   "metadata": {},
   "outputs": [],
   "source": [
    "soup = BeautifulSoup(source, 'lxml')"
   ]
  },
  {
   "cell_type": "code",
   "execution_count": 7,
   "metadata": {},
   "outputs": [],
   "source": [
    "# Inspect the soup object and identify the \"table\" class where the desired information is located.\n",
    "table = soup.find('table')"
   ]
  },
  {
   "cell_type": "code",
   "execution_count": 8,
   "metadata": {},
   "outputs": [],
   "source": [
    "rowsList = [] # append rows of table\n",
    "for rows in table.find_all('tr'):\n",
    "    rowsList.append(rows.text)"
   ]
  },
  {
   "cell_type": "code",
   "execution_count": 9,
   "metadata": {},
   "outputs": [],
   "source": [
    "pstcd = []\n",
    "Borough = []\n",
    "Neighborhood = []\n",
    "Neighborhood_data = {'postcode':[], 'Borough':[], 'Neighborhood':[]} # neighborhood data\n",
    "# rowslist includes '\\n'. \n",
    "# Split using '\\n' and extract the postcode, Borough and Neighborhood text for every row.\n",
    "for row in rowsList:\n",
    "    pstcd.append(row.split('\\n')[1])\n",
    "    Borough.append(row.split('\\n')[2])\n",
    "    Neighborhood.append(row.split('\\n')[3])\n",
    "\n",
    "# Fill dictionary    \n",
    "Neighborhood_data['postcode'] = pstcd[1:]\n",
    "Neighborhood_data['Borough'] = Borough[1:]\n",
    "Neighborhood_data['Neighborhood'] = Neighborhood[1:]\n",
    "\n",
    "# Make dataframe of neighborhood data using dictionary\n",
    "Neighbors = pd.DataFrame(data = Neighborhood_data)"
   ]
  },
  {
   "cell_type": "code",
   "execution_count": 10,
   "metadata": {},
   "outputs": [
    {
     "data": {
      "text/html": [
       "<div>\n",
       "<style scoped>\n",
       "    .dataframe tbody tr th:only-of-type {\n",
       "        vertical-align: middle;\n",
       "    }\n",
       "\n",
       "    .dataframe tbody tr th {\n",
       "        vertical-align: top;\n",
       "    }\n",
       "\n",
       "    .dataframe thead th {\n",
       "        text-align: right;\n",
       "    }\n",
       "</style>\n",
       "<table border=\"1\" class=\"dataframe\">\n",
       "  <thead>\n",
       "    <tr style=\"text-align: right;\">\n",
       "      <th></th>\n",
       "      <th>postcode</th>\n",
       "      <th>Borough</th>\n",
       "      <th>Neighborhood</th>\n",
       "    </tr>\n",
       "  </thead>\n",
       "  <tbody>\n",
       "    <tr>\n",
       "      <th>0</th>\n",
       "      <td>M1A</td>\n",
       "      <td>Not assigned</td>\n",
       "      <td>Not assigned</td>\n",
       "    </tr>\n",
       "    <tr>\n",
       "      <th>1</th>\n",
       "      <td>M2A</td>\n",
       "      <td>Not assigned</td>\n",
       "      <td>Not assigned</td>\n",
       "    </tr>\n",
       "    <tr>\n",
       "      <th>2</th>\n",
       "      <td>M3A</td>\n",
       "      <td>North York</td>\n",
       "      <td>Parkwoods</td>\n",
       "    </tr>\n",
       "    <tr>\n",
       "      <th>3</th>\n",
       "      <td>M4A</td>\n",
       "      <td>North York</td>\n",
       "      <td>Victoria Village</td>\n",
       "    </tr>\n",
       "    <tr>\n",
       "      <th>4</th>\n",
       "      <td>M5A</td>\n",
       "      <td>Downtown Toronto</td>\n",
       "      <td>Harbourfront</td>\n",
       "    </tr>\n",
       "  </tbody>\n",
       "</table>\n",
       "</div>"
      ],
      "text/plain": [
       "  postcode           Borough      Neighborhood\n",
       "0      M1A      Not assigned      Not assigned\n",
       "1      M2A      Not assigned      Not assigned\n",
       "2      M3A        North York         Parkwoods\n",
       "3      M4A        North York  Victoria Village\n",
       "4      M5A  Downtown Toronto      Harbourfront"
      ]
     },
     "execution_count": 10,
     "metadata": {},
     "output_type": "execute_result"
    }
   ],
   "source": [
    "Neighbors.head(5)"
   ]
  },
  {
   "cell_type": "code",
   "execution_count": 14,
   "metadata": {
    "scrolled": true
   },
   "outputs": [
    {
     "data": {
      "text/html": [
       "<div>\n",
       "<style scoped>\n",
       "    .dataframe tbody tr th:only-of-type {\n",
       "        vertical-align: middle;\n",
       "    }\n",
       "\n",
       "    .dataframe tbody tr th {\n",
       "        vertical-align: top;\n",
       "    }\n",
       "\n",
       "    .dataframe thead th {\n",
       "        text-align: right;\n",
       "    }\n",
       "</style>\n",
       "<table border=\"1\" class=\"dataframe\">\n",
       "  <thead>\n",
       "    <tr style=\"text-align: right;\">\n",
       "      <th></th>\n",
       "      <th>PostalCode</th>\n",
       "      <th>Borough</th>\n",
       "      <th>Neighborhood</th>\n",
       "    </tr>\n",
       "  </thead>\n",
       "  <tbody>\n",
       "    <tr>\n",
       "      <th>0</th>\n",
       "      <td>M1A</td>\n",
       "      <td>Not assigned</td>\n",
       "      <td>Not assigned</td>\n",
       "    </tr>\n",
       "    <tr>\n",
       "      <th>1</th>\n",
       "      <td>M2A</td>\n",
       "      <td>Not assigned</td>\n",
       "      <td>Not assigned</td>\n",
       "    </tr>\n",
       "    <tr>\n",
       "      <th>2</th>\n",
       "      <td>M3A</td>\n",
       "      <td>North York</td>\n",
       "      <td>Parkwoods</td>\n",
       "    </tr>\n",
       "    <tr>\n",
       "      <th>3</th>\n",
       "      <td>M4A</td>\n",
       "      <td>North York</td>\n",
       "      <td>Victoria Village</td>\n",
       "    </tr>\n",
       "    <tr>\n",
       "      <th>4</th>\n",
       "      <td>M5A</td>\n",
       "      <td>Downtown Toronto</td>\n",
       "      <td>Harbourfront</td>\n",
       "    </tr>\n",
       "  </tbody>\n",
       "</table>\n",
       "</div>"
      ],
      "text/plain": [
       "  PostalCode           Borough      Neighborhood\n",
       "0        M1A      Not assigned      Not assigned\n",
       "1        M2A      Not assigned      Not assigned\n",
       "2        M3A        North York         Parkwoods\n",
       "3        M4A        North York  Victoria Village\n",
       "4        M5A  Downtown Toronto      Harbourfront"
      ]
     },
     "execution_count": 14,
     "metadata": {},
     "output_type": "execute_result"
    }
   ],
   "source": [
    "# Change column name\n",
    "Neighbors.columns=['PostalCode', 'Borough', 'Neighborhood']\n",
    "Neighbors_orig = Neighbors\n",
    "Neighbors.head()"
   ]
  },
  {
   "cell_type": "markdown",
   "metadata": {},
   "source": [
    "### Drop the rows where Borough is \"Not assigned\""
   ]
  },
  {
   "cell_type": "code",
   "execution_count": 15,
   "metadata": {},
   "outputs": [],
   "source": [
    "# find index of rows where Borough is 'Not assigned'\n",
    "drop_index = (Neighbors[Neighbors['Borough'].str.match('Not assigned')]).index \n",
    "\n",
    "# drop the rows containing 'Not assigned' in 'Borough' column\n",
    "Neighbors.drop(drop_index, inplace = True)\n",
    "Neighbors.reset_index(inplace = True, drop=True)\n"
   ]
  },
  {
   "cell_type": "markdown",
   "metadata": {},
   "source": [
    "### Combine neighborhoods that share the same PostalCode"
   ]
  },
  {
   "cell_type": "code",
   "execution_count": 33,
   "metadata": {},
   "outputs": [],
   "source": [
    "Neighbors = Neighbors.groupby('PostalCode').agg({'Borough':'first',\n",
    "                                        'Neighborhood': ', '.join}).reset_index()"
   ]
  },
  {
   "cell_type": "code",
   "execution_count": 34,
   "metadata": {},
   "outputs": [
    {
     "data": {
      "text/html": [
       "<div>\n",
       "<style scoped>\n",
       "    .dataframe tbody tr th:only-of-type {\n",
       "        vertical-align: middle;\n",
       "    }\n",
       "\n",
       "    .dataframe tbody tr th {\n",
       "        vertical-align: top;\n",
       "    }\n",
       "\n",
       "    .dataframe thead th {\n",
       "        text-align: right;\n",
       "    }\n",
       "</style>\n",
       "<table border=\"1\" class=\"dataframe\">\n",
       "  <thead>\n",
       "    <tr style=\"text-align: right;\">\n",
       "      <th></th>\n",
       "      <th>PostalCode</th>\n",
       "      <th>Borough</th>\n",
       "      <th>Neighborhood</th>\n",
       "    </tr>\n",
       "  </thead>\n",
       "  <tbody>\n",
       "    <tr>\n",
       "      <th>0</th>\n",
       "      <td>M1B</td>\n",
       "      <td>Scarborough</td>\n",
       "      <td>Rouge, Malvern</td>\n",
       "    </tr>\n",
       "    <tr>\n",
       "      <th>1</th>\n",
       "      <td>M1C</td>\n",
       "      <td>Scarborough</td>\n",
       "      <td>Highland Creek, Rouge Hill, Port Union</td>\n",
       "    </tr>\n",
       "    <tr>\n",
       "      <th>2</th>\n",
       "      <td>M1E</td>\n",
       "      <td>Scarborough</td>\n",
       "      <td>Guildwood, Morningside, West Hill</td>\n",
       "    </tr>\n",
       "    <tr>\n",
       "      <th>3</th>\n",
       "      <td>M1G</td>\n",
       "      <td>Scarborough</td>\n",
       "      <td>Woburn</td>\n",
       "    </tr>\n",
       "    <tr>\n",
       "      <th>4</th>\n",
       "      <td>M1H</td>\n",
       "      <td>Scarborough</td>\n",
       "      <td>Cedarbrae</td>\n",
       "    </tr>\n",
       "  </tbody>\n",
       "</table>\n",
       "</div>"
      ],
      "text/plain": [
       "  PostalCode      Borough                            Neighborhood\n",
       "0        M1B  Scarborough                          Rouge, Malvern\n",
       "1        M1C  Scarborough  Highland Creek, Rouge Hill, Port Union\n",
       "2        M1E  Scarborough       Guildwood, Morningside, West Hill\n",
       "3        M1G  Scarborough                                  Woburn\n",
       "4        M1H  Scarborough                               Cedarbrae"
      ]
     },
     "execution_count": 34,
     "metadata": {},
     "output_type": "execute_result"
    }
   ],
   "source": [
    "Neighbors.head(5)"
   ]
  },
  {
   "cell_type": "markdown",
   "metadata": {},
   "source": [
    "### Assign Borough name to Neighborhood name when the latter is \"Not assigned\""
   ]
  },
  {
   "cell_type": "code",
   "execution_count": 42,
   "metadata": {},
   "outputs": [],
   "source": [
    "# Check the cells that have a borough, but a Not assigned neighborhood. \n",
    "#Assign the Borough name to Neighborhood.\n",
    "\n",
    "# find index of the rows where Neighborhood is \"Not assigned\"\n",
    "tempInd = (Neighbors[Neighbors['Neighborhood'].str.match('Not assigned')]).index\n",
    "\n",
    "# assign the Borough name to Neighborhood name\n",
    "Neighbors.iloc[tempInd, 2] = Neighbors.iloc[tempInd, 1]"
   ]
  },
  {
   "cell_type": "markdown",
   "metadata": {},
   "source": [
    "### Number of rows:"
   ]
  },
  {
   "cell_type": "code",
   "execution_count": 49,
   "metadata": {},
   "outputs": [
    {
     "data": {
      "text/plain": [
       "(103, 3)"
      ]
     },
     "execution_count": 49,
     "metadata": {},
     "output_type": "execute_result"
    }
   ],
   "source": [
    "Neighbors.shape"
   ]
  },
  {
   "cell_type": "markdown",
   "metadata": {},
   "source": [
    "### Download geographical coordinates\n",
    "Ideally Google API (not free) of geocoder (free, but not consistent, multiple requests are needed sometimes) should be used for this. But for now we use the already downloaded coordinates in csv format from http://cocl.us/Geospatial_data"
   ]
  },
  {
   "cell_type": "code",
   "execution_count": 54,
   "metadata": {
    "scrolled": true
   },
   "outputs": [
    {
     "name": "stdout",
     "output_type": "stream",
     "text": [
      "--2019-04-04 11:39:18--  http://cocl.us/Geospatial_data\n",
      "Resolving cocl.us... 169.48.113.201\n",
      "Connecting to cocl.us|169.48.113.201|:80... connected.\n",
      "HTTP request sent, awaiting response... 301 Moved Permanently\n",
      "Location: https://cocl.us/Geospatial_data [following]\n",
      "--2019-04-04 11:39:18--  https://cocl.us/Geospatial_data\n",
      "Connecting to cocl.us|169.48.113.201|:443... connected.\n",
      "HTTP request sent, awaiting response... 301 Moved Permanently\n",
      "Location: https://ibm.box.com/shared/static/9afzr83pps4pwf2smjjcf1y5mvgb18rr.csv [following]\n",
      "--2019-04-04 11:39:21--  https://ibm.box.com/shared/static/9afzr83pps4pwf2smjjcf1y5mvgb18rr.csv\n",
      "Resolving ibm.box.com... 107.152.26.197\n",
      "Connecting to ibm.box.com|107.152.26.197|:443... connected.\n",
      "HTTP request sent, awaiting response... 301 Moved Permanently\n",
      "Location: /public/static/9afzr83pps4pwf2smjjcf1y5mvgb18rr.csv [following]\n",
      "--2019-04-04 11:39:21--  https://ibm.box.com/public/static/9afzr83pps4pwf2smjjcf1y5mvgb18rr.csv\n",
      "Reusing existing connection to ibm.box.com:443.\n",
      "HTTP request sent, awaiting response... 301 Moved Permanently\n",
      "Location: https://ibm.ent.box.com/public/static/9afzr83pps4pwf2smjjcf1y5mvgb18rr.csv [following]\n",
      "--2019-04-04 11:39:22--  https://ibm.ent.box.com/public/static/9afzr83pps4pwf2smjjcf1y5mvgb18rr.csv\n",
      "Resolving ibm.ent.box.com... 107.152.26.211\n",
      "Connecting to ibm.ent.box.com|107.152.26.211|:443... connected.\n",
      "HTTP request sent, awaiting response... 302 Found\n",
      "Location: https://public.boxcloud.com/d/1/b1!tjbzY9Q-k3YB1pneZgAgJ-j465wYZcwn-rqtiPL5IsgT5ERERc0oS3u0u9xWV23VsfFoejOT_R_bBzq-nmuEX1X8_RUSQyWScOCeUiGg4kbR9vOcU4znby4TglWLlrgFb4LW9Gci_g_qy3JWQHXpGDnE4axckEvo0B2_l8TrmVPFL83Go47Lo1ww-JTHVCCcytdsIIRTPMd3ZCPCowWOEzUPwssenGZichmu2_YaYc6FTPtItoewZTqOL9MPViuj9QnkHTHiIxDorOgPxfd798ORmq4N2zS9XR9JEPvi3LQJmxPwHK34SSDEF72ZEuScvj_mSfh0Kbdy3qNb6juxgZvUmYrIZUrgL5PDpo9uFwlBTcbjOHr9ZIutD2V7_U_FI6gEJzctLZj4Msa2q0-JUlCFnhp6eXMsFs4bQnJNXlT60YYU8DENcChmoKuCB4sBNoOYD8vUiHUjVmIvd9cNvxL84CN9udzh3VTXPFh17Jm1iuP9Dtvv-dywFiml8jOkzuwuezCuAXLCPWCnVvQc3WZLI6Qkj_dPE7M1KyFlfLDR5wqlrIiXDYz6RugIK7akuNlkggXcR5zWz8QVSblnL_pDPOsGP7KXo6Xh0xQ1b92j0anCN_dhm9eVTMPFeCeLdehwZg7Elr-jo1IzM1NXmbENC_wPhgFi5x6c4cPPYj1NbnW8OHzb1fpSaoMBhGgb28JJdfXTKx1qR-gri0agiMAOY0aq25tMLyDhLVD3oFpRue_1iWgn3-98gjUW508VALE6cBMPqOA22rCV09mJEdgLx6lxssBGEnfr5u3NSFfRe0EULtev7Ae0Qz7MmSC_vChpZWYbEvGisMsBTYB2Av6F-lO9IpslcTjvO6TqMA9HKvoz9_Vh21vRlAffHSPhBzoiKdi1L2XUhr0G4Zchr_AE3CgF3Osdjpqp_YKaj9rts4Aui1FY3Yst--RBYYLlHMWNRU8rg6I9mpVaeO2Uty80DxtRj4ZnaGNEp2yDUeeY3qg5NplbJ6VL7cFyr3XJiHNeQSrAOg2etQT_BHTVY69icaenVXI8GTSKAQ7IoOPsn_2zngHKdZqUuIQOgZVdhvSwwefuHHcKEXz90x97hKwy1SAuWTmVHyn3A4wabQiezPwrenYx36zBwIoe-1SjyzQkx4QPrmQ_cb2W6hYWplLuJ6LhgN_oUuQMErTwoLUvsKQmiMo0yhpJadFvlg2SaAWYzp8ylyKiIVfhpAGDClcsOQW3uV2A72TZK-k44EjAGfpSWjzwb7wzJ4c6-bMMeHaG-gB7rPTQDiMCy-O3Qbh1n3Ayw8QpG24k0r5fD4ot89kGL_ooaWNHw4CZU6fMhdvb0hxd6Q0D39tL-PjMAqLC37AJ5gUNbNQU587TJ0TFM-SwEBqJwrU./download [following]\n",
      "--2019-04-04 11:39:23--  https://public.boxcloud.com/d/1/b1!tjbzY9Q-k3YB1pneZgAgJ-j465wYZcwn-rqtiPL5IsgT5ERERc0oS3u0u9xWV23VsfFoejOT_R_bBzq-nmuEX1X8_RUSQyWScOCeUiGg4kbR9vOcU4znby4TglWLlrgFb4LW9Gci_g_qy3JWQHXpGDnE4axckEvo0B2_l8TrmVPFL83Go47Lo1ww-JTHVCCcytdsIIRTPMd3ZCPCowWOEzUPwssenGZichmu2_YaYc6FTPtItoewZTqOL9MPViuj9QnkHTHiIxDorOgPxfd798ORmq4N2zS9XR9JEPvi3LQJmxPwHK34SSDEF72ZEuScvj_mSfh0Kbdy3qNb6juxgZvUmYrIZUrgL5PDpo9uFwlBTcbjOHr9ZIutD2V7_U_FI6gEJzctLZj4Msa2q0-JUlCFnhp6eXMsFs4bQnJNXlT60YYU8DENcChmoKuCB4sBNoOYD8vUiHUjVmIvd9cNvxL84CN9udzh3VTXPFh17Jm1iuP9Dtvv-dywFiml8jOkzuwuezCuAXLCPWCnVvQc3WZLI6Qkj_dPE7M1KyFlfLDR5wqlrIiXDYz6RugIK7akuNlkggXcR5zWz8QVSblnL_pDPOsGP7KXo6Xh0xQ1b92j0anCN_dhm9eVTMPFeCeLdehwZg7Elr-jo1IzM1NXmbENC_wPhgFi5x6c4cPPYj1NbnW8OHzb1fpSaoMBhGgb28JJdfXTKx1qR-gri0agiMAOY0aq25tMLyDhLVD3oFpRue_1iWgn3-98gjUW508VALE6cBMPqOA22rCV09mJEdgLx6lxssBGEnfr5u3NSFfRe0EULtev7Ae0Qz7MmSC_vChpZWYbEvGisMsBTYB2Av6F-lO9IpslcTjvO6TqMA9HKvoz9_Vh21vRlAffHSPhBzoiKdi1L2XUhr0G4Zchr_AE3CgF3Osdjpqp_YKaj9rts4Aui1FY3Yst--RBYYLlHMWNRU8rg6I9mpVaeO2Uty80DxtRj4ZnaGNEp2yDUeeY3qg5NplbJ6VL7cFyr3XJiHNeQSrAOg2etQT_BHTVY69icaenVXI8GTSKAQ7IoOPsn_2zngHKdZqUuIQOgZVdhvSwwefuHHcKEXz90x97hKwy1SAuWTmVHyn3A4wabQiezPwrenYx36zBwIoe-1SjyzQkx4QPrmQ_cb2W6hYWplLuJ6LhgN_oUuQMErTwoLUvsKQmiMo0yhpJadFvlg2SaAWYzp8ylyKiIVfhpAGDClcsOQW3uV2A72TZK-k44EjAGfpSWjzwb7wzJ4c6-bMMeHaG-gB7rPTQDiMCy-O3Qbh1n3Ayw8QpG24k0r5fD4ot89kGL_ooaWNHw4CZU6fMhdvb0hxd6Q0D39tL-PjMAqLC37AJ5gUNbNQU587TJ0TFM-SwEBqJwrU./download\n",
      "Resolving public.boxcloud.com... 107.152.26.200\n",
      "Connecting to public.boxcloud.com|107.152.26.200|:443... connected.\n",
      "HTTP request sent, awaiting response... 200 OK\n",
      "Length: 2891 (2.8K) [text/csv]\n",
      "Saving to: 'geo_coord_Toronto.csv'\n",
      "\n",
      "geo_coord_Toronto.c 100%[===================>]   2.82K  --.-KB/s    in 0s      \n",
      "\n",
      "2019-04-04 11:39:23 (70.7 MB/s) - 'geo_coord_Toronto.csv' saved [2891/2891]\n",
      "\n",
      "Download compelete!\n"
     ]
    }
   ],
   "source": [
    "# Download geographical coordinates:\n",
    "!wget -O geo_coord_Toronto.csv  http://cocl.us/Geospatial_data\n",
    "print('Download compelete!')\n",
    "coor_toronto = pd.read_csv('geo_coord_Toronto.csv')\n",
    "\n",
    "\n"
   ]
  },
  {
   "cell_type": "code",
   "execution_count": 67,
   "metadata": {},
   "outputs": [
    {
     "name": "stdout",
     "output_type": "stream",
     "text": [
      "(103, 3)\n"
     ]
    },
    {
     "data": {
      "text/html": [
       "<div>\n",
       "<style scoped>\n",
       "    .dataframe tbody tr th:only-of-type {\n",
       "        vertical-align: middle;\n",
       "    }\n",
       "\n",
       "    .dataframe tbody tr th {\n",
       "        vertical-align: top;\n",
       "    }\n",
       "\n",
       "    .dataframe thead th {\n",
       "        text-align: right;\n",
       "    }\n",
       "</style>\n",
       "<table border=\"1\" class=\"dataframe\">\n",
       "  <thead>\n",
       "    <tr style=\"text-align: right;\">\n",
       "      <th></th>\n",
       "      <th>PostalCode</th>\n",
       "      <th>Latitude</th>\n",
       "      <th>Longitude</th>\n",
       "    </tr>\n",
       "  </thead>\n",
       "  <tbody>\n",
       "    <tr>\n",
       "      <th>0</th>\n",
       "      <td>M1B</td>\n",
       "      <td>43.806686</td>\n",
       "      <td>-79.194353</td>\n",
       "    </tr>\n",
       "    <tr>\n",
       "      <th>1</th>\n",
       "      <td>M1C</td>\n",
       "      <td>43.784535</td>\n",
       "      <td>-79.160497</td>\n",
       "    </tr>\n",
       "    <tr>\n",
       "      <th>2</th>\n",
       "      <td>M1E</td>\n",
       "      <td>43.763573</td>\n",
       "      <td>-79.188711</td>\n",
       "    </tr>\n",
       "    <tr>\n",
       "      <th>3</th>\n",
       "      <td>M1G</td>\n",
       "      <td>43.770992</td>\n",
       "      <td>-79.216917</td>\n",
       "    </tr>\n",
       "    <tr>\n",
       "      <th>4</th>\n",
       "      <td>M1H</td>\n",
       "      <td>43.773136</td>\n",
       "      <td>-79.239476</td>\n",
       "    </tr>\n",
       "  </tbody>\n",
       "</table>\n",
       "</div>"
      ],
      "text/plain": [
       "  PostalCode   Latitude  Longitude\n",
       "0        M1B  43.806686 -79.194353\n",
       "1        M1C  43.784535 -79.160497\n",
       "2        M1E  43.763573 -79.188711\n",
       "3        M1G  43.770992 -79.216917\n",
       "4        M1H  43.773136 -79.239476"
      ]
     },
     "execution_count": 67,
     "metadata": {},
     "output_type": "execute_result"
    }
   ],
   "source": [
    "print(coor_toronto.shape)\n",
    "coor_toronto.columns = ['PostalCode', 'Latitude', 'Longitude']\n",
    "coor_toronto.head(5)"
   ]
  },
  {
   "cell_type": "markdown",
   "metadata": {},
   "source": [
    "### Join Neighborhood and coordinate tables"
   ]
  },
  {
   "cell_type": "code",
   "execution_count": 68,
   "metadata": {},
   "outputs": [],
   "source": [
    "# Keep a copy of Neighbors before joining with coordinate table\n",
    "x = Neighbors.copy()"
   ]
  },
  {
   "cell_type": "code",
   "execution_count": 80,
   "metadata": {},
   "outputs": [
    {
     "data": {
      "text/plain": [
       "PostalCode     object\n",
       "Latitude      float64\n",
       "Longitude     float64\n",
       "dtype: object"
      ]
     },
     "execution_count": 80,
     "metadata": {},
     "output_type": "execute_result"
    }
   ],
   "source": [
    "coor_toronto.dtypes"
   ]
  },
  {
   "cell_type": "code",
   "execution_count": 81,
   "metadata": {},
   "outputs": [
    {
     "data": {
      "text/plain": [
       "PostalCode      object\n",
       "Borough         object\n",
       "Neighborhood    object\n",
       "dtype: object"
      ]
     },
     "execution_count": 81,
     "metadata": {},
     "output_type": "execute_result"
    }
   ],
   "source": [
    "Neighbors.dtypes"
   ]
  },
  {
   "cell_type": "code",
   "execution_count": 83,
   "metadata": {},
   "outputs": [
    {
     "data": {
      "text/html": [
       "<div>\n",
       "<style scoped>\n",
       "    .dataframe tbody tr th:only-of-type {\n",
       "        vertical-align: middle;\n",
       "    }\n",
       "\n",
       "    .dataframe tbody tr th {\n",
       "        vertical-align: top;\n",
       "    }\n",
       "\n",
       "    .dataframe thead th {\n",
       "        text-align: right;\n",
       "    }\n",
       "</style>\n",
       "<table border=\"1\" class=\"dataframe\">\n",
       "  <thead>\n",
       "    <tr style=\"text-align: right;\">\n",
       "      <th></th>\n",
       "      <th>PostalCode</th>\n",
       "      <th>Borough</th>\n",
       "      <th>Neighborhood</th>\n",
       "      <th>Latitude</th>\n",
       "      <th>Longitude</th>\n",
       "    </tr>\n",
       "  </thead>\n",
       "  <tbody>\n",
       "    <tr>\n",
       "      <th>0</th>\n",
       "      <td>M1B</td>\n",
       "      <td>Scarborough</td>\n",
       "      <td>Rouge, Malvern</td>\n",
       "      <td>43.806686</td>\n",
       "      <td>-79.194353</td>\n",
       "    </tr>\n",
       "    <tr>\n",
       "      <th>1</th>\n",
       "      <td>M1C</td>\n",
       "      <td>Scarborough</td>\n",
       "      <td>Highland Creek, Rouge Hill, Port Union</td>\n",
       "      <td>43.784535</td>\n",
       "      <td>-79.160497</td>\n",
       "    </tr>\n",
       "    <tr>\n",
       "      <th>2</th>\n",
       "      <td>M1E</td>\n",
       "      <td>Scarborough</td>\n",
       "      <td>Guildwood, Morningside, West Hill</td>\n",
       "      <td>43.763573</td>\n",
       "      <td>-79.188711</td>\n",
       "    </tr>\n",
       "    <tr>\n",
       "      <th>3</th>\n",
       "      <td>M1G</td>\n",
       "      <td>Scarborough</td>\n",
       "      <td>Woburn</td>\n",
       "      <td>43.770992</td>\n",
       "      <td>-79.216917</td>\n",
       "    </tr>\n",
       "    <tr>\n",
       "      <th>4</th>\n",
       "      <td>M1H</td>\n",
       "      <td>Scarborough</td>\n",
       "      <td>Cedarbrae</td>\n",
       "      <td>43.773136</td>\n",
       "      <td>-79.239476</td>\n",
       "    </tr>\n",
       "  </tbody>\n",
       "</table>\n",
       "</div>"
      ],
      "text/plain": [
       "  PostalCode      Borough                            Neighborhood   Latitude  \\\n",
       "0        M1B  Scarborough                          Rouge, Malvern  43.806686   \n",
       "1        M1C  Scarborough  Highland Creek, Rouge Hill, Port Union  43.784535   \n",
       "2        M1E  Scarborough       Guildwood, Morningside, West Hill  43.763573   \n",
       "3        M1G  Scarborough                                  Woburn  43.770992   \n",
       "4        M1H  Scarborough                               Cedarbrae  43.773136   \n",
       "\n",
       "   Longitude  \n",
       "0 -79.194353  \n",
       "1 -79.160497  \n",
       "2 -79.188711  \n",
       "3 -79.216917  \n",
       "4 -79.239476  "
      ]
     },
     "execution_count": 83,
     "metadata": {},
     "output_type": "execute_result"
    }
   ],
   "source": [
    "new = Neighbors.merge(coor_toronto, on='PostalCode')\n",
    "new.head()"
   ]
  },
  {
   "cell_type": "code",
   "execution_count": null,
   "metadata": {},
   "outputs": [],
   "source": []
  }
 ],
 "metadata": {
  "kernelspec": {
   "display_name": "Python 3",
   "language": "python",
   "name": "python3"
  },
  "language_info": {
   "codemirror_mode": {
    "name": "ipython",
    "version": 3
   },
   "file_extension": ".py",
   "mimetype": "text/x-python",
   "name": "python",
   "nbconvert_exporter": "python",
   "pygments_lexer": "ipython3",
   "version": "3.6.5"
  }
 },
 "nbformat": 4,
 "nbformat_minor": 2
}
