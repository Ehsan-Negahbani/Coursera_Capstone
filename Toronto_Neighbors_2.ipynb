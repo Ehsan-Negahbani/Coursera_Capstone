{
 "cells": [
  {
   "cell_type": "code",
   "execution_count": 1,
   "metadata": {},
   "outputs": [],
   "source": [
    "import pandas as pd\n",
    "import numpy as np\n",
    "# import k-means from clustering stage\n",
    "from sklearn.cluster import KMeans\n",
    "# Matplotlib and associated plotting modules\n",
    "import matplotlib.cm as cm\n",
    "import matplotlib.colors as colors"
   ]
  },
  {
   "cell_type": "code",
   "execution_count": 2,
   "metadata": {},
   "outputs": [],
   "source": [
    "# !conda install -c conda-forge BeautifulSoup4 --yes # \n",
    "from bs4 import BeautifulSoup # import BeautifulSoup library"
   ]
  },
  {
   "cell_type": "code",
   "execution_count": 3,
   "metadata": {},
   "outputs": [],
   "source": [
    "# install a parser\n",
    "# !conda install -c conda-forge html5lib --yes # "
   ]
  },
  {
   "cell_type": "code",
   "execution_count": 4,
   "metadata": {},
   "outputs": [],
   "source": [
    "# install request library\n",
    "# !conda install -c conda-forge request --yes\n",
    "import requests\n",
    "from pandas.io.json import json_normalize # tranform JSON file into a pandas dataframe"
   ]
  },
  {
   "cell_type": "markdown",
   "metadata": {},
   "source": [
    "## Scrape Neighborhood Information"
   ]
  },
  {
   "cell_type": "code",
   "execution_count": 5,
   "metadata": {},
   "outputs": [],
   "source": [
    "source = requests.get('https://en.wikipedia.org/wiki/List_of_postal_codes_of_Canada:_M').text # Get the source html code\n",
    "# add on .text to get the source code from response objec"
   ]
  },
  {
   "cell_type": "code",
   "execution_count": 6,
   "metadata": {},
   "outputs": [],
   "source": [
    "soup = BeautifulSoup(source, 'lxml')"
   ]
  },
  {
   "cell_type": "code",
   "execution_count": 7,
   "metadata": {},
   "outputs": [],
   "source": [
    "# Inspect the soup object and identify the \"table\" class where the desired information is located.\n",
    "table = soup.find('table')"
   ]
  },
  {
   "cell_type": "code",
   "execution_count": 8,
   "metadata": {},
   "outputs": [],
   "source": [
    "rowsList = [] # append rows of table\n",
    "for rows in table.find_all('tr'):\n",
    "    rowsList.append(rows.text)"
   ]
  },
  {
   "cell_type": "code",
   "execution_count": 9,
   "metadata": {},
   "outputs": [],
   "source": [
    "pstcd = []\n",
    "Borough = []\n",
    "Neighborhood = []\n",
    "Neighborhood_data = {'postcode':[], 'Borough':[], 'Neighborhood':[]} # neighborhood data\n",
    "# rowslist includes '\\n'. \n",
    "# Split using '\\n' and extract the postcode, Borough and Neighborhood text for every row.\n",
    "for row in rowsList:\n",
    "    pstcd.append(row.split('\\n')[1])\n",
    "    Borough.append(row.split('\\n')[2])\n",
    "    Neighborhood.append(row.split('\\n')[3])\n",
    "\n",
    "# Fill dictionary    \n",
    "Neighborhood_data['postcode'] = pstcd[1:]\n",
    "Neighborhood_data['Borough'] = Borough[1:]\n",
    "Neighborhood_data['Neighborhood'] = Neighborhood[1:]\n",
    "\n",
    "# Make dataframe of neighborhood data using dictionary\n",
    "Neighbors = pd.DataFrame(data = Neighborhood_data)"
   ]
  },
  {
   "cell_type": "code",
   "execution_count": 10,
   "metadata": {},
   "outputs": [
    {
     "data": {
      "text/html": [
       "<div>\n",
       "<style scoped>\n",
       "    .dataframe tbody tr th:only-of-type {\n",
       "        vertical-align: middle;\n",
       "    }\n",
       "\n",
       "    .dataframe tbody tr th {\n",
       "        vertical-align: top;\n",
       "    }\n",
       "\n",
       "    .dataframe thead th {\n",
       "        text-align: right;\n",
       "    }\n",
       "</style>\n",
       "<table border=\"1\" class=\"dataframe\">\n",
       "  <thead>\n",
       "    <tr style=\"text-align: right;\">\n",
       "      <th></th>\n",
       "      <th>postcode</th>\n",
       "      <th>Borough</th>\n",
       "      <th>Neighborhood</th>\n",
       "    </tr>\n",
       "  </thead>\n",
       "  <tbody>\n",
       "    <tr>\n",
       "      <th>0</th>\n",
       "      <td>M1A</td>\n",
       "      <td>Not assigned</td>\n",
       "      <td>Not assigned</td>\n",
       "    </tr>\n",
       "    <tr>\n",
       "      <th>1</th>\n",
       "      <td>M2A</td>\n",
       "      <td>Not assigned</td>\n",
       "      <td>Not assigned</td>\n",
       "    </tr>\n",
       "    <tr>\n",
       "      <th>2</th>\n",
       "      <td>M3A</td>\n",
       "      <td>North York</td>\n",
       "      <td>Parkwoods</td>\n",
       "    </tr>\n",
       "    <tr>\n",
       "      <th>3</th>\n",
       "      <td>M4A</td>\n",
       "      <td>North York</td>\n",
       "      <td>Victoria Village</td>\n",
       "    </tr>\n",
       "    <tr>\n",
       "      <th>4</th>\n",
       "      <td>M5A</td>\n",
       "      <td>Downtown Toronto</td>\n",
       "      <td>Harbourfront</td>\n",
       "    </tr>\n",
       "  </tbody>\n",
       "</table>\n",
       "</div>"
      ],
      "text/plain": [
       "  postcode           Borough      Neighborhood\n",
       "0      M1A      Not assigned      Not assigned\n",
       "1      M2A      Not assigned      Not assigned\n",
       "2      M3A        North York         Parkwoods\n",
       "3      M4A        North York  Victoria Village\n",
       "4      M5A  Downtown Toronto      Harbourfront"
      ]
     },
     "execution_count": 10,
     "metadata": {},
     "output_type": "execute_result"
    }
   ],
   "source": [
    "Neighbors.head(5)"
   ]
  },
  {
   "cell_type": "code",
   "execution_count": 11,
   "metadata": {
    "scrolled": true
   },
   "outputs": [
    {
     "data": {
      "text/html": [
       "<div>\n",
       "<style scoped>\n",
       "    .dataframe tbody tr th:only-of-type {\n",
       "        vertical-align: middle;\n",
       "    }\n",
       "\n",
       "    .dataframe tbody tr th {\n",
       "        vertical-align: top;\n",
       "    }\n",
       "\n",
       "    .dataframe thead th {\n",
       "        text-align: right;\n",
       "    }\n",
       "</style>\n",
       "<table border=\"1\" class=\"dataframe\">\n",
       "  <thead>\n",
       "    <tr style=\"text-align: right;\">\n",
       "      <th></th>\n",
       "      <th>PostalCode</th>\n",
       "      <th>Borough</th>\n",
       "      <th>Neighborhood</th>\n",
       "    </tr>\n",
       "  </thead>\n",
       "  <tbody>\n",
       "    <tr>\n",
       "      <th>0</th>\n",
       "      <td>M1A</td>\n",
       "      <td>Not assigned</td>\n",
       "      <td>Not assigned</td>\n",
       "    </tr>\n",
       "    <tr>\n",
       "      <th>1</th>\n",
       "      <td>M2A</td>\n",
       "      <td>Not assigned</td>\n",
       "      <td>Not assigned</td>\n",
       "    </tr>\n",
       "    <tr>\n",
       "      <th>2</th>\n",
       "      <td>M3A</td>\n",
       "      <td>North York</td>\n",
       "      <td>Parkwoods</td>\n",
       "    </tr>\n",
       "    <tr>\n",
       "      <th>3</th>\n",
       "      <td>M4A</td>\n",
       "      <td>North York</td>\n",
       "      <td>Victoria Village</td>\n",
       "    </tr>\n",
       "    <tr>\n",
       "      <th>4</th>\n",
       "      <td>M5A</td>\n",
       "      <td>Downtown Toronto</td>\n",
       "      <td>Harbourfront</td>\n",
       "    </tr>\n",
       "  </tbody>\n",
       "</table>\n",
       "</div>"
      ],
      "text/plain": [
       "  PostalCode           Borough      Neighborhood\n",
       "0        M1A      Not assigned      Not assigned\n",
       "1        M2A      Not assigned      Not assigned\n",
       "2        M3A        North York         Parkwoods\n",
       "3        M4A        North York  Victoria Village\n",
       "4        M5A  Downtown Toronto      Harbourfront"
      ]
     },
     "execution_count": 11,
     "metadata": {},
     "output_type": "execute_result"
    }
   ],
   "source": [
    "# Change column name\n",
    "Neighbors.columns=['PostalCode', 'Borough', 'Neighborhood']\n",
    "Neighbors_orig = Neighbors\n",
    "Neighbors.head()"
   ]
  },
  {
   "cell_type": "markdown",
   "metadata": {},
   "source": [
    "### Drop the rows where Borough is \"Not assigned\""
   ]
  },
  {
   "cell_type": "code",
   "execution_count": 12,
   "metadata": {},
   "outputs": [],
   "source": [
    "# find index of rows where Borough is 'Not assigned'\n",
    "drop_index = (Neighbors[Neighbors['Borough'].str.match('Not assigned')]).index \n",
    "\n",
    "# drop the rows containing 'Not assigned' in 'Borough' column\n",
    "Neighbors.drop(drop_index, inplace = True)\n",
    "Neighbors.reset_index(inplace = True, drop=True)\n"
   ]
  },
  {
   "cell_type": "markdown",
   "metadata": {},
   "source": [
    "### Combine neighborhoods that share the same PostalCode"
   ]
  },
  {
   "cell_type": "code",
   "execution_count": 13,
   "metadata": {},
   "outputs": [],
   "source": [
    "Neighbors = Neighbors.groupby('PostalCode').agg({'Borough':'first',\n",
    "                                        'Neighborhood': ', '.join}).reset_index()"
   ]
  },
  {
   "cell_type": "code",
   "execution_count": 14,
   "metadata": {},
   "outputs": [
    {
     "data": {
      "text/html": [
       "<div>\n",
       "<style scoped>\n",
       "    .dataframe tbody tr th:only-of-type {\n",
       "        vertical-align: middle;\n",
       "    }\n",
       "\n",
       "    .dataframe tbody tr th {\n",
       "        vertical-align: top;\n",
       "    }\n",
       "\n",
       "    .dataframe thead th {\n",
       "        text-align: right;\n",
       "    }\n",
       "</style>\n",
       "<table border=\"1\" class=\"dataframe\">\n",
       "  <thead>\n",
       "    <tr style=\"text-align: right;\">\n",
       "      <th></th>\n",
       "      <th>PostalCode</th>\n",
       "      <th>Borough</th>\n",
       "      <th>Neighborhood</th>\n",
       "    </tr>\n",
       "  </thead>\n",
       "  <tbody>\n",
       "    <tr>\n",
       "      <th>0</th>\n",
       "      <td>M1B</td>\n",
       "      <td>Scarborough</td>\n",
       "      <td>Rouge, Malvern</td>\n",
       "    </tr>\n",
       "    <tr>\n",
       "      <th>1</th>\n",
       "      <td>M1C</td>\n",
       "      <td>Scarborough</td>\n",
       "      <td>Highland Creek, Rouge Hill, Port Union</td>\n",
       "    </tr>\n",
       "    <tr>\n",
       "      <th>2</th>\n",
       "      <td>M1E</td>\n",
       "      <td>Scarborough</td>\n",
       "      <td>Guildwood, Morningside, West Hill</td>\n",
       "    </tr>\n",
       "    <tr>\n",
       "      <th>3</th>\n",
       "      <td>M1G</td>\n",
       "      <td>Scarborough</td>\n",
       "      <td>Woburn</td>\n",
       "    </tr>\n",
       "    <tr>\n",
       "      <th>4</th>\n",
       "      <td>M1H</td>\n",
       "      <td>Scarborough</td>\n",
       "      <td>Cedarbrae</td>\n",
       "    </tr>\n",
       "  </tbody>\n",
       "</table>\n",
       "</div>"
      ],
      "text/plain": [
       "  PostalCode      Borough                            Neighborhood\n",
       "0        M1B  Scarborough                          Rouge, Malvern\n",
       "1        M1C  Scarborough  Highland Creek, Rouge Hill, Port Union\n",
       "2        M1E  Scarborough       Guildwood, Morningside, West Hill\n",
       "3        M1G  Scarborough                                  Woburn\n",
       "4        M1H  Scarborough                               Cedarbrae"
      ]
     },
     "execution_count": 14,
     "metadata": {},
     "output_type": "execute_result"
    }
   ],
   "source": [
    "Neighbors.head(5)"
   ]
  },
  {
   "cell_type": "markdown",
   "metadata": {},
   "source": [
    "### Assign Borough name to Neighborhood name when the latter is \"Not assigned\""
   ]
  },
  {
   "cell_type": "code",
   "execution_count": 15,
   "metadata": {},
   "outputs": [],
   "source": [
    "# Check the cells that have a borough, but a Not assigned neighborhood. \n",
    "#Assign the Borough name to Neighborhood.\n",
    "\n",
    "# find index of the rows where Neighborhood is \"Not assigned\"\n",
    "tempInd = (Neighbors[Neighbors['Neighborhood'].str.match('Not assigned')]).index\n",
    "\n",
    "# assign the Borough name to Neighborhood name\n",
    "Neighbors.iloc[tempInd, 2] = Neighbors.iloc[tempInd, 1]"
   ]
  },
  {
   "cell_type": "markdown",
   "metadata": {},
   "source": [
    "### Number of rows:"
   ]
  },
  {
   "cell_type": "code",
   "execution_count": 16,
   "metadata": {},
   "outputs": [
    {
     "data": {
      "text/plain": [
       "(103, 3)"
      ]
     },
     "execution_count": 16,
     "metadata": {},
     "output_type": "execute_result"
    }
   ],
   "source": [
    "Neighbors.shape"
   ]
  },
  {
   "cell_type": "markdown",
   "metadata": {},
   "source": [
    "### Download geographical coordinates\n",
    "Ideally Google API (not free) of geocoder (free, but not consistent, multiple requests are needed sometimes) should be used for this. But for now we use the already downloaded coordinates in csv format from http://cocl.us/Geospatial_data"
   ]
  },
  {
   "cell_type": "code",
   "execution_count": 17,
   "metadata": {
    "scrolled": true
   },
   "outputs": [
    {
     "name": "stdout",
     "output_type": "stream",
     "text": [
      "--2019-04-04 15:37:01--  http://cocl.us/Geospatial_data\n",
      "Resolving cocl.us... 169.48.113.201\n",
      "Connecting to cocl.us|169.48.113.201|:80... connected.\n",
      "HTTP request sent, awaiting response... 301 Moved Permanently\n",
      "Location: https://cocl.us/Geospatial_data [following]\n",
      "--2019-04-04 15:37:01--  https://cocl.us/Geospatial_data\n",
      "Connecting to cocl.us|169.48.113.201|:443... connected.\n",
      "HTTP request sent, awaiting response... 301 Moved Permanently\n",
      "Location: https://ibm.box.com/shared/static/9afzr83pps4pwf2smjjcf1y5mvgb18rr.csv [following]\n",
      "--2019-04-04 15:37:03--  https://ibm.box.com/shared/static/9afzr83pps4pwf2smjjcf1y5mvgb18rr.csv\n",
      "Resolving ibm.box.com... 107.152.27.197\n",
      "Connecting to ibm.box.com|107.152.27.197|:443... connected.\n",
      "HTTP request sent, awaiting response... 301 Moved Permanently\n",
      "Location: /public/static/9afzr83pps4pwf2smjjcf1y5mvgb18rr.csv [following]\n",
      "--2019-04-04 15:37:04--  https://ibm.box.com/public/static/9afzr83pps4pwf2smjjcf1y5mvgb18rr.csv\n",
      "Reusing existing connection to ibm.box.com:443.\n",
      "HTTP request sent, awaiting response... 301 Moved Permanently\n",
      "Location: https://ibm.ent.box.com/public/static/9afzr83pps4pwf2smjjcf1y5mvgb18rr.csv [following]\n",
      "--2019-04-04 15:37:04--  https://ibm.ent.box.com/public/static/9afzr83pps4pwf2smjjcf1y5mvgb18rr.csv\n",
      "Resolving ibm.ent.box.com... 107.152.27.211\n",
      "Connecting to ibm.ent.box.com|107.152.27.211|:443... connected.\n",
      "HTTP request sent, awaiting response... 302 Found\n",
      "Location: https://public.boxcloud.com/d/1/b1!b9jYH4xdyAh6Ok5xwGXoGcv1571qHSZUde_nsn18EQNJ538kidvQcdFZAjDbxgFvrdev6nGi3RO2tZ_jG1Lcg_4uR9zQSzCN5dV48ps8XfMEyf4cMB9f8orsxmWIhdss0oBUDlFHW_eIRnV2cqV6WhqCaA74eEtccpqXlIASCiZLQLzs2rGnZwvftgFCI6IV1msbCfkU13uEeONvBGYvILrDwTzpAepJ1c-hZVx0enM4oC8p2FH66G7UKzEHCJGSmLL1GrGJ4sg5XrubC97m1uF_khjefuJYplx9YBTHuPNxLgX99Ec6nqaRWcuw91DUsOJ2hv9n_J63ATvHr_8hhnXHGQU8KQaZDUqSQcO8Z-4rJa1KrTuIahPyq48tHMV6KKjsnBMbaVL40OTgR_qu8gWUKng07FlD1Oq2GGcPzMvrbPrniUY-JxmnrewH3PbmoDN_2RbKaF9OZtgf7YVYwMiBuvqYYpWn05aux-6TvpAi7TeMtVf4Z4UEzty7ogfUZXG7Jn2R9gYdRm_7PJxyx2Gg14ADwo5iE202wHgFuxFh5qD3ZEWa2Jgb3FXsINFILIVRxkWYrl6gy1CR5U97PuueBY8qz6o7AIYXxocKuRYPq9mgeme88tqeBZdP9o8sOjabV2lHIVeWkGrAxZkpSEru0_XFHU-Q1-ibjaxpCSjGngEZP_UpaEbtXi7xlJh38cLfYDkm0LQd2g1YYzthAZRyYmUGMkp4NDxYBdwMhtYb9nwQZ2UPejT2BEtCvY02lXUvkiIEQrNHHq53tXZAbYcaZ-u8S5JoC8FU_hLgMwujf48NS70ReFNUnMbcdsY_kOD92IA2o6_41SPS4uXqXvW-ta4kk_CdPA5klrOffqtVuHeEPhO2X63dKZCFefwssFDgAqusLUvO02VIjK68d0f5_pueK6Uxig9nIoCr4xGMnOVlCJonnnIFs0IIFv3GjzqJcxaAGIQI9Ya6leTq1g8gVQgTWISBHUUoYOOMeI6noH_owW3knZjWouRaxz0CbSyhn_K0tTEtCHDA1rZIPqLSdJTsn_thfP1nIKseuMmAeegbKuprYL7B3EP03Q1E0loas3WqLR_ouc6Hd78TspUH5-Bpr_x7uB08OCRvBu7_Z3qJq4cVUebmfNlKTJcVfoWYCyoRfBUi1_JDnN7yXun0LSERpTtAYtt9stwLlmVhbZ0Sw5V7E45EtxaUFaolnD_etFOFpOtcyMQWzlB-hWHA9cGQwoVZROIKzbda9Up8k3LctXq9DTUEMRFOqTWyUYQPQwBKMCH1XcisBtcOUzGZ_1-LeoWrNbkOGZ1JDs7gmS43dtFKtbupvlLf85vnWRPqxXLJf9M1Ua0Gz8k7QLCwY5pFwksDAcOIsv2wj5Tft3KDl9hCcV0RIg../download [following]\n",
      "--2019-04-04 15:37:07--  https://public.boxcloud.com/d/1/b1!b9jYH4xdyAh6Ok5xwGXoGcv1571qHSZUde_nsn18EQNJ538kidvQcdFZAjDbxgFvrdev6nGi3RO2tZ_jG1Lcg_4uR9zQSzCN5dV48ps8XfMEyf4cMB9f8orsxmWIhdss0oBUDlFHW_eIRnV2cqV6WhqCaA74eEtccpqXlIASCiZLQLzs2rGnZwvftgFCI6IV1msbCfkU13uEeONvBGYvILrDwTzpAepJ1c-hZVx0enM4oC8p2FH66G7UKzEHCJGSmLL1GrGJ4sg5XrubC97m1uF_khjefuJYplx9YBTHuPNxLgX99Ec6nqaRWcuw91DUsOJ2hv9n_J63ATvHr_8hhnXHGQU8KQaZDUqSQcO8Z-4rJa1KrTuIahPyq48tHMV6KKjsnBMbaVL40OTgR_qu8gWUKng07FlD1Oq2GGcPzMvrbPrniUY-JxmnrewH3PbmoDN_2RbKaF9OZtgf7YVYwMiBuvqYYpWn05aux-6TvpAi7TeMtVf4Z4UEzty7ogfUZXG7Jn2R9gYdRm_7PJxyx2Gg14ADwo5iE202wHgFuxFh5qD3ZEWa2Jgb3FXsINFILIVRxkWYrl6gy1CR5U97PuueBY8qz6o7AIYXxocKuRYPq9mgeme88tqeBZdP9o8sOjabV2lHIVeWkGrAxZkpSEru0_XFHU-Q1-ibjaxpCSjGngEZP_UpaEbtXi7xlJh38cLfYDkm0LQd2g1YYzthAZRyYmUGMkp4NDxYBdwMhtYb9nwQZ2UPejT2BEtCvY02lXUvkiIEQrNHHq53tXZAbYcaZ-u8S5JoC8FU_hLgMwujf48NS70ReFNUnMbcdsY_kOD92IA2o6_41SPS4uXqXvW-ta4kk_CdPA5klrOffqtVuHeEPhO2X63dKZCFefwssFDgAqusLUvO02VIjK68d0f5_pueK6Uxig9nIoCr4xGMnOVlCJonnnIFs0IIFv3GjzqJcxaAGIQI9Ya6leTq1g8gVQgTWISBHUUoYOOMeI6noH_owW3knZjWouRaxz0CbSyhn_K0tTEtCHDA1rZIPqLSdJTsn_thfP1nIKseuMmAeegbKuprYL7B3EP03Q1E0loas3WqLR_ouc6Hd78TspUH5-Bpr_x7uB08OCRvBu7_Z3qJq4cVUebmfNlKTJcVfoWYCyoRfBUi1_JDnN7yXun0LSERpTtAYtt9stwLlmVhbZ0Sw5V7E45EtxaUFaolnD_etFOFpOtcyMQWzlB-hWHA9cGQwoVZROIKzbda9Up8k3LctXq9DTUEMRFOqTWyUYQPQwBKMCH1XcisBtcOUzGZ_1-LeoWrNbkOGZ1JDs7gmS43dtFKtbupvlLf85vnWRPqxXLJf9M1Ua0Gz8k7QLCwY5pFwksDAcOIsv2wj5Tft3KDl9hCcV0RIg../download\n",
      "Resolving public.boxcloud.com... 107.152.26.200, 107.152.27.200\n",
      "Connecting to public.boxcloud.com|107.152.26.200|:443... connected.\n",
      "HTTP request sent, awaiting response... 200 OK\n",
      "Length: 2891 (2.8K) [text/csv]\n",
      "Saving to: 'geo_coord_Toronto.csv'\n",
      "\n",
      "geo_coord_Toronto.c 100%[===================>]   2.82K  --.-KB/s    in 0s      \n",
      "\n",
      "2019-04-04 15:37:07 (67.2 MB/s) - 'geo_coord_Toronto.csv' saved [2891/2891]\n",
      "\n",
      "Download compelete!\n"
     ]
    }
   ],
   "source": [
    "# Download geographical coordinates:\n",
    "!wget -O geo_coord_Toronto.csv  http://cocl.us/Geospatial_data\n",
    "print('Download compelete!')\n",
    "coor_toronto = pd.read_csv('geo_coord_Toronto.csv')\n",
    "\n",
    "\n"
   ]
  },
  {
   "cell_type": "code",
   "execution_count": 18,
   "metadata": {},
   "outputs": [
    {
     "name": "stdout",
     "output_type": "stream",
     "text": [
      "(103, 3)\n"
     ]
    },
    {
     "data": {
      "text/html": [
       "<div>\n",
       "<style scoped>\n",
       "    .dataframe tbody tr th:only-of-type {\n",
       "        vertical-align: middle;\n",
       "    }\n",
       "\n",
       "    .dataframe tbody tr th {\n",
       "        vertical-align: top;\n",
       "    }\n",
       "\n",
       "    .dataframe thead th {\n",
       "        text-align: right;\n",
       "    }\n",
       "</style>\n",
       "<table border=\"1\" class=\"dataframe\">\n",
       "  <thead>\n",
       "    <tr style=\"text-align: right;\">\n",
       "      <th></th>\n",
       "      <th>PostalCode</th>\n",
       "      <th>Latitude</th>\n",
       "      <th>Longitude</th>\n",
       "    </tr>\n",
       "  </thead>\n",
       "  <tbody>\n",
       "    <tr>\n",
       "      <th>0</th>\n",
       "      <td>M1B</td>\n",
       "      <td>43.806686</td>\n",
       "      <td>-79.194353</td>\n",
       "    </tr>\n",
       "    <tr>\n",
       "      <th>1</th>\n",
       "      <td>M1C</td>\n",
       "      <td>43.784535</td>\n",
       "      <td>-79.160497</td>\n",
       "    </tr>\n",
       "    <tr>\n",
       "      <th>2</th>\n",
       "      <td>M1E</td>\n",
       "      <td>43.763573</td>\n",
       "      <td>-79.188711</td>\n",
       "    </tr>\n",
       "    <tr>\n",
       "      <th>3</th>\n",
       "      <td>M1G</td>\n",
       "      <td>43.770992</td>\n",
       "      <td>-79.216917</td>\n",
       "    </tr>\n",
       "    <tr>\n",
       "      <th>4</th>\n",
       "      <td>M1H</td>\n",
       "      <td>43.773136</td>\n",
       "      <td>-79.239476</td>\n",
       "    </tr>\n",
       "  </tbody>\n",
       "</table>\n",
       "</div>"
      ],
      "text/plain": [
       "  PostalCode   Latitude  Longitude\n",
       "0        M1B  43.806686 -79.194353\n",
       "1        M1C  43.784535 -79.160497\n",
       "2        M1E  43.763573 -79.188711\n",
       "3        M1G  43.770992 -79.216917\n",
       "4        M1H  43.773136 -79.239476"
      ]
     },
     "execution_count": 18,
     "metadata": {},
     "output_type": "execute_result"
    }
   ],
   "source": [
    "print(coor_toronto.shape)\n",
    "coor_toronto.columns = ['PostalCode', 'Latitude', 'Longitude']\n",
    "coor_toronto.head(5)"
   ]
  },
  {
   "cell_type": "markdown",
   "metadata": {},
   "source": [
    "### Join Neighborhood and coordinate tables"
   ]
  },
  {
   "cell_type": "code",
   "execution_count": 19,
   "metadata": {},
   "outputs": [],
   "source": [
    "# Keep a copy of Neighbors before joining with coordinate table\n",
    "x = Neighbors.copy()"
   ]
  },
  {
   "cell_type": "code",
   "execution_count": 20,
   "metadata": {},
   "outputs": [
    {
     "data": {
      "text/html": [
       "<div>\n",
       "<style scoped>\n",
       "    .dataframe tbody tr th:only-of-type {\n",
       "        vertical-align: middle;\n",
       "    }\n",
       "\n",
       "    .dataframe tbody tr th {\n",
       "        vertical-align: top;\n",
       "    }\n",
       "\n",
       "    .dataframe thead th {\n",
       "        text-align: right;\n",
       "    }\n",
       "</style>\n",
       "<table border=\"1\" class=\"dataframe\">\n",
       "  <thead>\n",
       "    <tr style=\"text-align: right;\">\n",
       "      <th></th>\n",
       "      <th>PostalCode</th>\n",
       "      <th>Borough</th>\n",
       "      <th>Neighborhood</th>\n",
       "      <th>Latitude</th>\n",
       "      <th>Longitude</th>\n",
       "    </tr>\n",
       "  </thead>\n",
       "  <tbody>\n",
       "    <tr>\n",
       "      <th>0</th>\n",
       "      <td>M1B</td>\n",
       "      <td>Scarborough</td>\n",
       "      <td>Rouge, Malvern</td>\n",
       "      <td>43.806686</td>\n",
       "      <td>-79.194353</td>\n",
       "    </tr>\n",
       "    <tr>\n",
       "      <th>1</th>\n",
       "      <td>M1C</td>\n",
       "      <td>Scarborough</td>\n",
       "      <td>Highland Creek, Rouge Hill, Port Union</td>\n",
       "      <td>43.784535</td>\n",
       "      <td>-79.160497</td>\n",
       "    </tr>\n",
       "    <tr>\n",
       "      <th>2</th>\n",
       "      <td>M1E</td>\n",
       "      <td>Scarborough</td>\n",
       "      <td>Guildwood, Morningside, West Hill</td>\n",
       "      <td>43.763573</td>\n",
       "      <td>-79.188711</td>\n",
       "    </tr>\n",
       "    <tr>\n",
       "      <th>3</th>\n",
       "      <td>M1G</td>\n",
       "      <td>Scarborough</td>\n",
       "      <td>Woburn</td>\n",
       "      <td>43.770992</td>\n",
       "      <td>-79.216917</td>\n",
       "    </tr>\n",
       "    <tr>\n",
       "      <th>4</th>\n",
       "      <td>M1H</td>\n",
       "      <td>Scarborough</td>\n",
       "      <td>Cedarbrae</td>\n",
       "      <td>43.773136</td>\n",
       "      <td>-79.239476</td>\n",
       "    </tr>\n",
       "  </tbody>\n",
       "</table>\n",
       "</div>"
      ],
      "text/plain": [
       "  PostalCode      Borough                            Neighborhood   Latitude  \\\n",
       "0        M1B  Scarborough                          Rouge, Malvern  43.806686   \n",
       "1        M1C  Scarborough  Highland Creek, Rouge Hill, Port Union  43.784535   \n",
       "2        M1E  Scarborough       Guildwood, Morningside, West Hill  43.763573   \n",
       "3        M1G  Scarborough                                  Woburn  43.770992   \n",
       "4        M1H  Scarborough                               Cedarbrae  43.773136   \n",
       "\n",
       "   Longitude  \n",
       "0 -79.194353  \n",
       "1 -79.160497  \n",
       "2 -79.188711  \n",
       "3 -79.216917  \n",
       "4 -79.239476  "
      ]
     },
     "execution_count": 20,
     "metadata": {},
     "output_type": "execute_result"
    }
   ],
   "source": [
    "Neighbors = Neighbors.merge(coor_toronto, on='PostalCode')\n",
    "Neighbors.head()"
   ]
  },
  {
   "cell_type": "code",
   "execution_count": 21,
   "metadata": {},
   "outputs": [
    {
     "name": "stdout",
     "output_type": "stream",
     "text": [
      "The dataframe has 11 boroughs and 103 neighborhoods.\n"
     ]
    }
   ],
   "source": [
    "print('The dataframe has {} boroughs and {} neighborhoods.'.format(\n",
    "        len(Neighbors['Borough'].unique()),\n",
    "        Neighbors.shape[0]\n",
    "    )\n",
    ")"
   ]
  },
  {
   "cell_type": "code",
   "execution_count": null,
   "metadata": {},
   "outputs": [],
   "source": []
  },
  {
   "cell_type": "code",
   "execution_count": null,
   "metadata": {},
   "outputs": [],
   "source": []
  }
 ],
 "metadata": {
  "kernelspec": {
   "display_name": "Python 3",
   "language": "python",
   "name": "python3"
  },
  "language_info": {
   "codemirror_mode": {
    "name": "ipython",
    "version": 3
   },
   "file_extension": ".py",
   "mimetype": "text/x-python",
   "name": "python",
   "nbconvert_exporter": "python",
   "pygments_lexer": "ipython3",
   "version": "3.6.5"
  }
 },
 "nbformat": 4,
 "nbformat_minor": 2
}
